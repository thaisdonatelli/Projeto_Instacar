{
 "cells": [
  {
   "cell_type": "markdown",
   "id": "n3Ha_cNSZ8lK",
   "metadata": {
    "id": "n3Ha_cNSZ8lK"
   },
   "source": [
    "# Etapa 1. Visão geral dos dados\n",
    "\n",
    "Leia os arquivos de dados (/datasets/instacart_orders.csv, /datasets/products.csv, /datasets/aisles.csv, /datasets/departments.csv e /datasets/order_products.csv) com `pd.read_csv()` usando os parâmetros apropriados para fazer isso corretamente. Verifique as informações para cada DataFrame criado.\n"
   ]
  },
  {
   "cell_type": "markdown",
   "id": "OmlQPLlyaAfR",
   "metadata": {
    "id": "OmlQPLlyaAfR"
   },
   "source": [
    "## Plano de solução\n",
    "\n",
    "Escreva aqui seu plano para a Etapa 2. Visão geral dos dados"
   ]
  },
  {
   "cell_type": "code",
   "execution_count": 1,
   "id": "fbf1adab",
   "metadata": {
    "id": "fbf1adab"
   },
   "outputs": [],
   "source": [
    "import pandas as pd # Importe as bibliotecas"
   ]
  },
  {
   "cell_type": "code",
   "execution_count": 2,
   "id": "ad36396d",
   "metadata": {
    "id": "ad36396d"
   },
   "outputs": [],
   "source": [
    "df_orders = pd.read_csv('/datasets/instacart_orders.csv',sep=';')\n",
    "df_products = pd.read_csv('/datasets/products.csv',sep=';')\n",
    "df_aisles = pd.read_csv('/datasets/aisles.csv',sep=';')\n",
    "df_departments = pd.read_csv('/datasets/departments.csv',sep=';')\n",
    "df_order_products = pd.read_csv('/datasets/order_products.csv',sep=';')"
   ]
  },
  {
   "cell_type": "code",
   "execution_count": 3,
   "id": "ad6a1efa",
   "metadata": {
    "id": "ad6a1efa"
   },
   "outputs": [
    {
     "name": "stdout",
     "output_type": "stream",
     "text": [
      "<class 'pandas.core.frame.DataFrame'>\n",
      "RangeIndex: 478967 entries, 0 to 478966\n",
      "Data columns (total 6 columns):\n",
      " #   Column                  Non-Null Count   Dtype  \n",
      "---  ------                  --------------   -----  \n",
      " 0   order_id                478967 non-null  int64  \n",
      " 1   user_id                 478967 non-null  int64  \n",
      " 2   order_number            478967 non-null  int64  \n",
      " 3   order_dow               478967 non-null  int64  \n",
      " 4   order_hour_of_day       478967 non-null  int64  \n",
      " 5   days_since_prior_order  450148 non-null  float64\n",
      "dtypes: float64(1), int64(5)\n",
      "memory usage: 21.9 MB\n",
      "None\n",
      "\n",
      "   order_id  user_id  order_number  order_dow  order_hour_of_day  \\\n",
      "0   1515936   183418            11          6                 13   \n",
      "1   1690866   163593             5          5                 12   \n",
      "2   1454967    39980             4          5                 19   \n",
      "3   1768857    82516            56          0                 20   \n",
      "4   3007858   196724             2          4                 12   \n",
      "\n",
      "   days_since_prior_order  \n",
      "0                    30.0  \n",
      "1                     9.0  \n",
      "2                     2.0  \n",
      "3                    10.0  \n",
      "4                    17.0  \n"
     ]
    }
   ],
   "source": [
    "print(df_orders.info())  # imprima as informações sobre o DataFrame\n",
    "\n",
    "print()\n",
    "\n",
    "print(df_orders.head())"
   ]
  },
  {
   "cell_type": "code",
   "execution_count": 4,
   "id": "5130e05e",
   "metadata": {
    "id": "5130e05e"
   },
   "outputs": [
    {
     "name": "stdout",
     "output_type": "stream",
     "text": [
      "<class 'pandas.core.frame.DataFrame'>\n",
      "RangeIndex: 49694 entries, 0 to 49693\n",
      "Data columns (total 4 columns):\n",
      " #   Column         Non-Null Count  Dtype \n",
      "---  ------         --------------  ----- \n",
      " 0   product_id     49694 non-null  int64 \n",
      " 1   product_name   48436 non-null  object\n",
      " 2   aisle_id       49694 non-null  int64 \n",
      " 3   department_id  49694 non-null  int64 \n",
      "dtypes: int64(3), object(1)\n",
      "memory usage: 1.5+ MB\n",
      "None\n",
      "\n",
      "   product_id                                       product_name  aisle_id  \\\n",
      "0           1                         Chocolate Sandwich Cookies        61   \n",
      "1           2                                   All-Seasons Salt       104   \n",
      "2           3               Robust Golden Unsweetened Oolong Tea        94   \n",
      "3           4  Smart Ones Classic Favorites Mini Rigatoni Wit...        38   \n",
      "4           5                          Green Chile Anytime Sauce         5   \n",
      "\n",
      "   department_id  \n",
      "0             19  \n",
      "1             13  \n",
      "2              7  \n",
      "3              1  \n",
      "4             13  \n"
     ]
    }
   ],
   "source": [
    "print(df_products.info()) # imprima as informações sobre o DataFrame\n",
    "\n",
    "print()\n",
    "\n",
    "print(df_products.head())"
   ]
  },
  {
   "cell_type": "code",
   "execution_count": 5,
   "id": "d8370c05",
   "metadata": {
    "id": "d8370c05"
   },
   "outputs": [
    {
     "name": "stdout",
     "output_type": "stream",
     "text": [
      "<class 'pandas.core.frame.DataFrame'>\n",
      "RangeIndex: 134 entries, 0 to 133\n",
      "Data columns (total 2 columns):\n",
      " #   Column    Non-Null Count  Dtype \n",
      "---  ------    --------------  ----- \n",
      " 0   aisle_id  134 non-null    int64 \n",
      " 1   aisle     134 non-null    object\n",
      "dtypes: int64(1), object(1)\n",
      "memory usage: 2.2+ KB\n",
      "None\n",
      "\n",
      "   aisle_id                       aisle\n",
      "0         1       prepared soups salads\n",
      "1         2           specialty cheeses\n",
      "2         3         energy granola bars\n",
      "3         4               instant foods\n",
      "4         5  marinades meat preparation\n"
     ]
    }
   ],
   "source": [
    "print(df_aisles.info()) # imprima as informações sobre o DataFrame\n",
    "\n",
    "print()\n",
    "\n",
    "print(df_aisles.head())"
   ]
  },
  {
   "cell_type": "code",
   "execution_count": 6,
   "id": "59e2090f",
   "metadata": {
    "id": "59e2090f"
   },
   "outputs": [
    {
     "name": "stdout",
     "output_type": "stream",
     "text": [
      "<class 'pandas.core.frame.DataFrame'>\n",
      "RangeIndex: 21 entries, 0 to 20\n",
      "Data columns (total 2 columns):\n",
      " #   Column         Non-Null Count  Dtype \n",
      "---  ------         --------------  ----- \n",
      " 0   department_id  21 non-null     int64 \n",
      " 1   department     21 non-null     object\n",
      "dtypes: int64(1), object(1)\n",
      "memory usage: 464.0+ bytes\n",
      "None\n",
      "\n",
      "   department_id department\n",
      "0              1     frozen\n",
      "1              2      other\n",
      "2              3     bakery\n",
      "3              4    produce\n",
      "4              5    alcohol\n"
     ]
    }
   ],
   "source": [
    "print(df_departments.info()) # imprima as informações sobre o DataFrame\n",
    "\n",
    "print()\n",
    "\n",
    "print(df_departments.head())\n",
    "\n"
   ]
  },
  {
   "cell_type": "code",
   "execution_count": 7,
   "id": "6fc81694",
   "metadata": {
    "id": "6fc81694"
   },
   "outputs": [
    {
     "name": "stdout",
     "output_type": "stream",
     "text": [
      "<class 'pandas.core.frame.DataFrame'>\n",
      "RangeIndex: 4545007 entries, 0 to 4545006\n",
      "Data columns (total 4 columns):\n",
      " #   Column             Non-Null Count    Dtype  \n",
      "---  ------             --------------    -----  \n",
      " 0   order_id           4545007 non-null  int64  \n",
      " 1   product_id         4545007 non-null  int64  \n",
      " 2   add_to_cart_order  4544171 non-null  float64\n",
      " 3   reordered          4545007 non-null  int64  \n",
      "dtypes: float64(1), int64(3)\n",
      "memory usage: 138.7 MB\n",
      "None\n",
      "\n",
      "   order_id  product_id  add_to_cart_order  reordered\n",
      "0   2141543       11440               17.0          0\n",
      "1    567889        1560                1.0          1\n",
      "2   2261212       26683                1.0          1\n",
      "3    491251        8670               35.0          1\n",
      "4   2571142        1940                5.0          1\n"
     ]
    }
   ],
   "source": [
    "print(df_order_products.info(show_counts=True)) # imprima as informações sobre o DataFrame\n",
    "\n",
    "print()\n",
    "\n",
    "print(df_order_products.head())"
   ]
  },
  {
   "cell_type": "markdown",
   "id": "cffb2340",
   "metadata": {
    "id": "t75BD19oaR5f"
   },
   "source": [
    "# Conclusões\n",
    "\n",
    "Cada DataFrame tem informações importantes, para o conjunto de dados. Quando damos uma olhada geral, algumas planilhas são muito mais extensas que outras, o que faz sentido... Já que uma, por exemplo, tem todos os perdidos realizados, e outra é apenas a lista 'mãe' de categorias. Elas acabam tendo funções diferentes, então a princípio parece tudo certo.\n",
    "\n",
    "3 Dataframes possuem valores ausentes, mas proporcionalmente não deve interferir no resultado final."
   ]
  },
  {
   "cell_type": "markdown",
   "id": "8RJHqxVmaVsF",
   "metadata": {
    "id": "8RJHqxVmaVsF"
   },
   "source": [
    "# Etapa 2. Preparação de dados\n",
    "\n",
    "Faça o pré-processamento dos dados da seguinte maneira:\n",
    "\n",
    "-\tVerifique e corrija os tipos de dados (por exemplo, certifique-se de que as colunas de ID sejam números inteiros)\n",
    "-\tIdentifique e preencha valores ausentes\n",
    "-\tIdentifique e remova valores duplicados\n",
    "\n",
    "Certifique-se de explicar que tipos de valores ausentes e duplicados você encontrou, como você os preencheu ou removeu, por que escolheu esses métodos e por que você acha que esses valores ausentes e duplicados estavam presentes no conjunto de dados."
   ]
  },
  {
   "cell_type": "markdown",
   "id": "p6poABZQaZYb",
   "metadata": {
    "id": "p6poABZQaZYb"
   },
   "source": [
    "## Plano de solução\n",
    "\n",
    "Escreva aqui seu plano para a Etapa 2. Preparação de dados\n",
    "\n",
    "Para começar a ideia é dar uma limpada nos DataFrames, ou seja, remover duplicatas e valores ausentes, para que seja mais fácil de trabalhar com os dados. Claro, considerando que será uma quantidade removida que para a análise vai ajudar, e não tirar dados importantes."
   ]
  },
  {
   "cell_type": "markdown",
   "id": "07357848-dc64-4156-9cc3-01ff4365226d",
   "metadata": {
    "id": "07357848-dc64-4156-9cc3-01ff4365226d"
   },
   "source": [
    "## Encontre e remova valores duplicados (e descreva por que você está fazendo suas escolhas)"
   ]
  },
  {
   "cell_type": "markdown",
   "id": "f179f0a9",
   "metadata": {
    "id": "f179f0a9"
   },
   "source": [
    "### DataFrame `orders`"
   ]
  },
  {
   "cell_type": "code",
   "execution_count": 8,
   "id": "b99297a5-405a-463d-8535-9adc3da4ad74",
   "metadata": {
    "id": "b99297a5-405a-463d-8535-9adc3da4ad74"
   },
   "outputs": [
    {
     "name": "stdout",
     "output_type": "stream",
     "text": [
      "15\n"
     ]
    }
   ],
   "source": [
    "df_orders_duplicates = df_orders.duplicated().sum() # Verificando se há pedidos duplicados\n",
    "\n",
    "print(df_orders_duplicates) # Imprimindo quantidade de duplicados"
   ]
  },
  {
   "cell_type": "markdown",
   "id": "PEkwUX_gvt5A",
   "metadata": {
    "id": "PEkwUX_gvt5A"
   },
   "source": [
    "Há linhas duplicadas? Se sim, o que elas têm em comum? \n",
    "\n",
    "Sim, há 15 linhas duplicadas. Possuem o mesmo número de 'order_id' (índíce), que deveria ser unívoco."
   ]
  },
  {
   "cell_type": "code",
   "execution_count": 9,
   "id": "0d44de5d",
   "metadata": {
    "id": "0d44de5d"
   },
   "outputs": [
    {
     "name": "stdout",
     "output_type": "stream",
     "text": [
      "        order_id  user_id  order_number  order_dow  order_hour_of_day  \\\n",
      "4838     2766110   162084            41          3                  2   \n",
      "5156     2190225   138285            18          3                  2   \n",
      "15506     553049    58599            13          3                  2   \n",
      "18420     382357   120200            19          3                  2   \n",
      "24691     690242    77357             2          3                  2   \n",
      "...          ...      ...           ...        ...                ...   \n",
      "457013   3384021    14881             6          3                  2   \n",
      "458816    910166   164782            18          3                  2   \n",
      "459635   1680532   106435             6          3                  2   \n",
      "468324    222962    54979            59          3                  2   \n",
      "477526   2592344    46860            38          3                  2   \n",
      "\n",
      "        days_since_prior_order  \n",
      "4838                      16.0  \n",
      "5156                      11.0  \n",
      "15506                      7.0  \n",
      "18420                     11.0  \n",
      "24691                      9.0  \n",
      "...                        ...  \n",
      "457013                    30.0  \n",
      "458816                     4.0  \n",
      "459635                    21.0  \n",
      "468324                     3.0  \n",
      "477526                     3.0  \n",
      "\n",
      "[121 rows x 6 columns]\n"
     ]
    }
   ],
   "source": [
    "# Com base nas suas conclusões,\n",
    "\n",
    "# verifique todos os pedidos feitos às 2h da manhã nas quartas-feiras\n",
    "\n",
    "\n",
    "orders_wed_2am = df_orders[(df_orders['order_dow'] == 3) & (df_orders['order_hour_of_day'] == 2)]\n",
    "\n",
    "print(orders_wed_2am)\n",
    "      \n",
    "# quarta-feira = 3 (considerando que domingo é 0) (order_dow)\n",
    "# 2 da manhã = horário - (order_hour_of_day)\n"
   ]
  },
  {
   "cell_type": "markdown",
   "id": "vu2OWyoqwOx5",
   "metadata": {
    "id": "vu2OWyoqwOx5"
   },
   "source": [
    "O que esse resultado quer dizer?\n",
    "\n",
    "Que tiveram 121 pedidos às 2h da manhã às quartas."
   ]
  },
  {
   "cell_type": "code",
   "execution_count": 10,
   "id": "480563c7",
   "metadata": {
    "id": "480563c7"
   },
   "outputs": [
    {
     "name": "stdout",
     "output_type": "stream",
     "text": [
      "        order_id  user_id  order_number  order_dow  order_hour_of_day  \\\n",
      "0        1515936   183418            11          6                 13   \n",
      "1        1690866   163593             5          5                 12   \n",
      "2        1454967    39980             4          5                 19   \n",
      "3        1768857    82516            56          0                 20   \n",
      "4        3007858   196724             2          4                 12   \n",
      "...          ...      ...           ...        ...                ...   \n",
      "478947   3210681     5617             5          1                 14   \n",
      "478948   3270802   112087             2          3                 13   \n",
      "478949    885349    82944            16          2                 11   \n",
      "478950    216274     4391             3          3                  8   \n",
      "478951   2071924     1730            18          1                 14   \n",
      "\n",
      "        days_since_prior_order  \n",
      "0                         30.0  \n",
      "1                          9.0  \n",
      "2                          2.0  \n",
      "3                         10.0  \n",
      "4                         17.0  \n",
      "...                        ...  \n",
      "478947                     7.0  \n",
      "478948                     6.0  \n",
      "478949                     6.0  \n",
      "478950                     8.0  \n",
      "478951                    15.0  \n",
      "\n",
      "[478952 rows x 6 columns]\n"
     ]
    }
   ],
   "source": [
    "df_orders = df_orders.drop_duplicates().reset_index(drop=True)\n",
    "\n",
    "print(df_orders) # Removendo os duplicados e atualizando os índices"
   ]
  },
  {
   "cell_type": "code",
   "execution_count": 11,
   "id": "0b2396a2",
   "metadata": {
    "id": "0b2396a2"
   },
   "outputs": [
    {
     "name": "stdout",
     "output_type": "stream",
     "text": [
      "0\n"
     ]
    }
   ],
   "source": [
    "print(df_orders.duplicated().sum()) # Verifique as linhas duplicadas mais uma vez"
   ]
  },
  {
   "cell_type": "code",
   "execution_count": 12,
   "id": "f6113ef1",
   "metadata": {
    "id": "f6113ef1"
   },
   "outputs": [
    {
     "name": "stdout",
     "output_type": "stream",
     "text": [
      "0\n"
     ]
    }
   ],
   "source": [
    "print(df_orders['order_id'].duplicated().sum()) # Verifique novamente apenas os IDs de pedidos duplicados"
   ]
  },
  {
   "cell_type": "markdown",
   "id": "5e8905ae",
   "metadata": {
    "id": "5e8905ae"
   },
   "source": [
    "Descreva brevemente suas conclusões e o que você fez com elas.\n",
    "\n",
    "Houveram pedidos duplicados porém apenas nas quartas, às 2h da manhã. Então não afetaria o as análises. De qualquer forma excluí estes duplicados para não atrapalharem."
   ]
  },
  {
   "cell_type": "markdown",
   "id": "45e6bc46",
   "metadata": {
    "id": "45e6bc46"
   },
   "source": [
    "### DataFrame `products`"
   ]
  },
  {
   "cell_type": "code",
   "execution_count": 13,
   "id": "5f526b5b-8175-46fa-a0fd-441767d50e64",
   "metadata": {
    "id": "5f526b5b-8175-46fa-a0fd-441767d50e64"
   },
   "outputs": [
    {
     "name": "stdout",
     "output_type": "stream",
     "text": [
      "0\n"
     ]
    }
   ],
   "source": [
    "# Verifique se há linhas completamente duplicadas\n",
    "\n",
    "df_products_duplicates = df_products.duplicated().sum()\n",
    "\n",
    "print(df_products_duplicates)"
   ]
  },
  {
   "cell_type": "code",
   "execution_count": 14,
   "id": "88daa4f4",
   "metadata": {
    "id": "88daa4f4"
   },
   "outputs": [
    {
     "name": "stdout",
     "output_type": "stream",
     "text": [
      "49673\n"
     ]
    }
   ],
   "source": [
    "# Verifique apenas se há IDs de departamentos duplicados\n",
    "\n",
    "\n",
    "print(df_products['department_id'].duplicated().sum())\n"
   ]
  },
  {
   "cell_type": "code",
   "execution_count": 15,
   "id": "c773f0bf",
   "metadata": {
    "id": "c773f0bf"
   },
   "outputs": [
    {
     "name": "stdout",
     "output_type": "stream",
     "text": [
      "1361\n"
     ]
    }
   ],
   "source": [
    "\n",
    "df_products['product_name'] = df_products['product_name'].str.lower()\n",
    "\n",
    "print(df_products['product_name'].duplicated().sum())\n",
    "\n",
    "\n",
    "# Verifique apenas se há nomes de produtos duplicados (converta os nomes para minúsculas para uma comparação melhor)\n"
   ]
  },
  {
   "cell_type": "code",
   "execution_count": 16,
   "id": "01efd02e",
   "metadata": {
    "id": "01efd02e"
   },
   "outputs": [
    {
     "name": "stdout",
     "output_type": "stream",
     "text": [
      "       product_id                                     product_name  aisle_id  \\\n",
      "2058         2059                                  biotin 1000 mcg        47   \n",
      "5455         5456                 green tea with ginseng and honey        96   \n",
      "5558         5559                           cream of mushroom soup        69   \n",
      "7558         7559                        cinnamon rolls with icing       105   \n",
      "9037         9038                           american cheese slices        21   \n",
      "...           ...                                              ...       ...   \n",
      "49689       49690                    high performance energy drink        64   \n",
      "49690       49691                    original pancake & waffle mix       130   \n",
      "49691       49692  organic instant oatmeal light maple brown sugar       130   \n",
      "49692       49693                           spring water body wash       127   \n",
      "49693       49694                          burrito- steak & cheese        38   \n",
      "\n",
      "       department_id  \n",
      "2058              11  \n",
      "5455              20  \n",
      "5558              15  \n",
      "7558              13  \n",
      "9037              16  \n",
      "...              ...  \n",
      "49689              7  \n",
      "49690             14  \n",
      "49691             14  \n",
      "49692             11  \n",
      "49693              1  \n",
      "\n",
      "[104 rows x 4 columns]\n"
     ]
    }
   ],
   "source": [
    "not_duplicates_products = df_products[df_products['product_name'].duplicated() & ~df_products['product_name'].isna()]\n",
    "      \n",
    "print(not_duplicates_products)\n",
    "\n",
    "# Verifique os nomes de produtos duplicados que não estão faltando"
   ]
  },
  {
   "cell_type": "markdown",
   "id": "9da8d293",
   "metadata": {
    "id": "9da8d293"
   },
   "source": [
    "Descreva brevemente suas conclusões e o que você fez com elas.\n",
    "\n",
    "Em 'products' não há linhas completamente duplicadas, porém há IDs de departamentos e nomes de produtos duplicados. O ID de departamentos faz muito sentido neste tipo de análise, uma vez que estamos análisando vários produtos que se encontram em diversos departamentos. Porém os produtos duplicados que estão escritos de forma 100% igual, porém com outras informações diferentes, deveriam passar por uma análise mais profunda para entender... Pois possivelmente são produtos similares, porém com alguma marca ou característica diferente, e aí se formos excluir os duplicados, pode faltar informação."
   ]
  },
  {
   "cell_type": "markdown",
   "id": "60f30db1",
   "metadata": {
    "id": "60f30db1"
   },
   "source": [
    "### DataFrame `departments`"
   ]
  },
  {
   "cell_type": "code",
   "execution_count": 17,
   "id": "fb410ad4-0fbf-4b80-bb09-23fdea79afe3",
   "metadata": {
    "id": "fb410ad4-0fbf-4b80-bb09-23fdea79afe3"
   },
   "outputs": [
    {
     "name": "stdout",
     "output_type": "stream",
     "text": [
      "0\n"
     ]
    }
   ],
   "source": [
    "# Verifique se há linhas completamente duplicadas\n",
    "\n",
    "print(df_departments.duplicated().sum())"
   ]
  },
  {
   "cell_type": "code",
   "execution_count": 18,
   "id": "332b12bb",
   "metadata": {
    "id": "332b12bb"
   },
   "outputs": [
    {
     "name": "stdout",
     "output_type": "stream",
     "text": [
      "0\n"
     ]
    }
   ],
   "source": [
    "# Verifique apenas se há IDs dos produtos duplicados - Aqui seria dos departamentos, certo?\n",
    "\n",
    "print(df_departments['department_id'].duplicated().sum())"
   ]
  },
  {
   "cell_type": "markdown",
   "id": "bd30d78e",
   "metadata": {
    "id": "bd30d78e"
   },
   "source": [
    "Descreva brevemente suas conclusões e o que você fez com elas.\n",
    "\n",
    "A lista da divisão de departamentos está bem limpa e completa! Não há colunas duplicadas. O que facilita na hora de fazer outras análises"
   ]
  },
  {
   "cell_type": "markdown",
   "id": "889349c1",
   "metadata": {
    "id": "889349c1"
   },
   "source": [
    "### DataFrame `aisles`"
   ]
  },
  {
   "cell_type": "code",
   "execution_count": 19,
   "id": "9da89fb9-4679-40f5-ad0d-c34df753a3f8",
   "metadata": {
    "id": "9da89fb9-4679-40f5-ad0d-c34df753a3f8"
   },
   "outputs": [
    {
     "name": "stdout",
     "output_type": "stream",
     "text": [
      "0\n"
     ]
    }
   ],
   "source": [
    "# Verifique se há linhas completamente duplicadas\n",
    "\n",
    "print(df_aisles.duplicated().sum())"
   ]
  },
  {
   "cell_type": "code",
   "execution_count": 20,
   "id": "da7c2822",
   "metadata": {
    "id": "da7c2822"
   },
   "outputs": [
    {
     "name": "stdout",
     "output_type": "stream",
     "text": [
      "0\n"
     ]
    }
   ],
   "source": [
    "# Verifique apenas se há IDs dos produtos duplicados\n",
    "\n",
    "print(df_aisles['aisle_id'].duplicated().sum())"
   ]
  },
  {
   "cell_type": "markdown",
   "id": "ac63826f",
   "metadata": {
    "id": "ac63826f"
   },
   "source": [
    "Descreva brevemente suas conclusões e o que você fez com elas.\n",
    "\n",
    "A lista da divisão de prateleiras está bem limpa e completa! Não há colunas duplicadas."
   ]
  },
  {
   "cell_type": "markdown",
   "id": "274cd06a",
   "metadata": {
    "id": "274cd06a"
   },
   "source": [
    "### DataFrame `order_products`"
   ]
  },
  {
   "cell_type": "code",
   "execution_count": 21,
   "id": "52326689-84a8-4b8f-a881-7c68780f62c9",
   "metadata": {
    "id": "52326689-84a8-4b8f-a881-7c68780f62c9"
   },
   "outputs": [
    {
     "name": "stdout",
     "output_type": "stream",
     "text": [
      "0\n"
     ]
    }
   ],
   "source": [
    "# Verifique se há linhas completamente duplicadas\n",
    "\n",
    "print(df_order_products.duplicated().sum())"
   ]
  },
  {
   "cell_type": "code",
   "execution_count": 22,
   "id": "7b861391",
   "metadata": {
    "id": "7b861391"
   },
   "outputs": [
    {
     "name": "stdout",
     "output_type": "stream",
     "text": [
      "4094961\n",
      "4499434\n"
     ]
    }
   ],
   "source": [
    "# Verifique mais uma vez se há outros casos complicados de duplicados\n",
    "\n",
    "print(df_order_products['order_id'].duplicated().sum())\n",
    "print(df_order_products['product_id'].duplicated().sum())\n"
   ]
  },
  {
   "cell_type": "markdown",
   "id": "0b890492",
   "metadata": {
    "id": "0b890492"
   },
   "source": [
    "Descreva brevemente suas conclusões e o que você fez com elas.\n",
    "\n",
    "É inevitável que este DataFrame tenham valores duplicados no número do pedido e do produto, uma vez que a maioria dos pedidos possuem mais de um produto em uma sua lista, e que as pessoas vão pedir produtos iguais a outras..."
   ]
  },
  {
   "cell_type": "markdown",
   "id": "1e46de76",
   "metadata": {
    "id": "1e46de76"
   },
   "source": [
    "## Encontre e remova valores ausentes\n",
    "\n",
    "\n",
    "Ao processarmos valores duplicados, observamos que também temos valores ausentes que precisamos investigar nas seguintes colunas:\n",
    "\n",
    "*\tA coluna `'product_name'` da tabela products.\n",
    "*\tA coluna `'days_since_prior_order'` da tabela orders.\n",
    "*\tA coluna `'add_to_cart_order'` da tabela order_products.\n"
   ]
  },
  {
   "cell_type": "markdown",
   "id": "c0aebd78",
   "metadata": {
    "id": "c0aebd78"
   },
   "source": [
    "### DataFrame `products`"
   ]
  },
  {
   "cell_type": "code",
   "execution_count": 23,
   "id": "fe4a8b0f",
   "metadata": {
    "id": "fe4a8b0f"
   },
   "outputs": [
    {
     "name": "stdout",
     "output_type": "stream",
     "text": [
      "1258\n"
     ]
    }
   ],
   "source": [
    "# Encontre valores ausentes na coluna 'product_name'\n",
    "\n",
    "print(df_products['product_name'].isna().sum())"
   ]
  },
  {
   "cell_type": "markdown",
   "id": "-A6x1AbJhjkp",
   "metadata": {
    "id": "-A6x1AbJhjkp"
   },
   "source": [
    "Descreva brevemente suas conclusões."
   ]
  },
  {
   "cell_type": "code",
   "execution_count": 24,
   "id": "e96167bc",
   "metadata": {
    "id": "e96167bc"
   },
   "outputs": [
    {
     "name": "stdout",
     "output_type": "stream",
     "text": [
      "Total: 1258\n",
      "\n",
      "Associados com a seção de ID 100: 1258\n",
      "\n",
      "Resposta: Sim, todos os nomes de produtos ausentes estão associados com a seção de ID 100\n"
     ]
    }
   ],
   "source": [
    "# Todos os nomes de produtos ausentes estão associados com a seção de ID 100?\n",
    "\n",
    "print(\"Total:\", df_products['product_name'].isna().sum())\n",
    "\n",
    "aisle_id_100 = df_products.loc[(df_products['aisle_id'] == 100),'product_name'].isna().sum()\n",
    "\n",
    "# aisle_id = 100 / primeiro filtro para aisle, depois para ausentes\n",
    "\n",
    "print()\n",
    "\n",
    "print(\"Associados com a seção de ID 100:\", aisle_id_100)\n",
    "\n",
    "print()\n",
    "\n",
    "print(\"Resposta: Sim, todos os nomes de produtos ausentes estão associados com a seção de ID 100\")\n"
   ]
  },
  {
   "cell_type": "markdown",
   "id": "WRpIfXRphpSL",
   "metadata": {
    "id": "WRpIfXRphpSL"
   },
   "source": [
    "Descreva brevemente suas conclusões.\n",
    "\n",
    "Por algum motivo todos os produtos da seção de ID 100 estão ausentes. Pelo menos é ótimo para conseguir fazer análises, uma vez que isso não vai afetar no restante."
   ]
  },
  {
   "cell_type": "code",
   "execution_count": 25,
   "id": "8fd0a541",
   "metadata": {
    "id": "8fd0a541"
   },
   "outputs": [
    {
     "name": "stdout",
     "output_type": "stream",
     "text": [
      "Total: 1258\n",
      "\n",
      "Associados com a departamento de ID 21: 1258\n",
      "\n",
      "Resposta: Sim, todos os nomes de produtos ausentes estão associados com o departamento de ID 21\n"
     ]
    }
   ],
   "source": [
    "# Todos os nomes de produtos ausentes estão associados com o departamento de ID 21?\n",
    "\n",
    "print(\"Total:\", df_products['product_name'].isna().sum())\n",
    "\n",
    "aisle_id_100 = df_products.loc[(df_products['department_id'] == 21),'product_name'].isna().sum()\n",
    "\n",
    "# aisle_id = 100 / primeiro filtro para aisle, depois para ausentes\n",
    "\n",
    "print()\n",
    "\n",
    "print(\"Associados com a departamento de ID 21:\", aisle_id_100)\n",
    "\n",
    "print()\n",
    "\n",
    "print(\"Resposta: Sim, todos os nomes de produtos ausentes estão associados com o departamento de ID 21\")"
   ]
  },
  {
   "cell_type": "markdown",
   "id": "qDpdYn1Fht_I",
   "metadata": {
    "id": "qDpdYn1Fht_I"
   },
   "source": [
    "Descreva brevemente suas conclusões."
   ]
  },
  {
   "cell_type": "code",
   "execution_count": 26,
   "id": "325c3464",
   "metadata": {
    "id": "325c3464"
   },
   "outputs": [
    {
     "name": "stdout",
     "output_type": "stream",
     "text": [
      "       product_id product_name  aisle_id  department_id\n",
      "37             38          NaN       100             21\n",
      "71             72          NaN       100             21\n",
      "109           110          NaN       100             21\n",
      "296           297          NaN       100             21\n",
      "416           417          NaN       100             21\n",
      "...           ...          ...       ...            ...\n",
      "49552       49553          NaN       100             21\n",
      "49574       49575          NaN       100             21\n",
      "49640       49641          NaN       100             21\n",
      "49663       49664          NaN       100             21\n",
      "49668       49669          NaN       100             21\n",
      "\n",
      "[1258 rows x 4 columns]\n"
     ]
    }
   ],
   "source": [
    "# Filtrar ['department_id'] == 100 e ['aisle_id'] == 21\n",
    "\n",
    "df_products_dep100_aisle21 = df_products[(df_products['department_id'] == 21) & (df_products['aisle_id'] == 100)]\n",
    "\n",
    "print(df_products_dep100_aisle21)\n",
    "\n",
    "# Use as tabelas de departamentos e seções para verificar os dados da seção ID 100 e do departamento ID 21."
   ]
  },
  {
   "cell_type": "markdown",
   "id": "nqhSTUPhhvEJ",
   "metadata": {
    "id": "nqhSTUPhhvEJ"
   },
   "source": [
    "Descreva brevemente suas conclusões.\n",
    "\n",
    "Se apenas a sessão 100 e o departamento 21 possuem objetos nulos, não interfere no restante e já está definido. "
   ]
  },
  {
   "cell_type": "code",
   "execution_count": 27,
   "id": "6b295120",
   "metadata": {
    "id": "6b295120"
   },
   "outputs": [
    {
     "name": "stdout",
     "output_type": "stream",
     "text": [
      "       product_id                                       product_name  \\\n",
      "0               1                         chocolate sandwich cookies   \n",
      "1               2                                   all-seasons salt   \n",
      "2               3               robust golden unsweetened oolong tea   \n",
      "3               4  smart ones classic favorites mini rigatoni wit...   \n",
      "4               5                          green chile anytime sauce   \n",
      "...           ...                                                ...   \n",
      "49689       49690                      high performance energy drink   \n",
      "49690       49691                      original pancake & waffle mix   \n",
      "49691       49692    organic instant oatmeal light maple brown sugar   \n",
      "49692       49693                             spring water body wash   \n",
      "49693       49694                            burrito- steak & cheese   \n",
      "\n",
      "       aisle_id  department_id  \n",
      "0            61             19  \n",
      "1           104             13  \n",
      "2            94              7  \n",
      "3            38              1  \n",
      "4             5             13  \n",
      "...         ...            ...  \n",
      "49689        64              7  \n",
      "49690       130             14  \n",
      "49691       130             14  \n",
      "49692       127             11  \n",
      "49693        38              1  \n",
      "\n",
      "[49694 rows x 4 columns]\n",
      "<class 'pandas.core.frame.DataFrame'>\n",
      "RangeIndex: 49694 entries, 0 to 49693\n",
      "Data columns (total 4 columns):\n",
      " #   Column         Non-Null Count  Dtype \n",
      "---  ------         --------------  ----- \n",
      " 0   product_id     49694 non-null  int64 \n",
      " 1   product_name   49694 non-null  object\n",
      " 2   aisle_id       49694 non-null  int64 \n",
      " 3   department_id  49694 non-null  int64 \n",
      "dtypes: int64(3), object(1)\n",
      "memory usage: 1.5+ MB\n",
      "None\n"
     ]
    }
   ],
   "source": [
    "# Preencha nomes de produtos ausentes com 'Unknown'\n",
    "\n",
    "df_products['product_name'] = df_products['product_name'].fillna('Unknown')\n",
    "\n",
    "print(df_products)\n",
    "\n",
    "print(df_products.info()) # Para conferir se os valores ausentes não estão mais aparecendo\n"
   ]
  },
  {
   "cell_type": "markdown",
   "id": "fc70e5ad",
   "metadata": {
    "id": "fc70e5ad"
   },
   "source": [
    "Descreva brevemente suas conclusões e o que você fez com elas.\n",
    "\n",
    "Nesta análise foi constatado que todos os 1.258 objetos que estão nulossão da sessão 100 e do departamento 21. Excluindo estes itens, deixamos a DF mais limpa e não vai alterar nos resultados que queremos analisar."
   ]
  },
  {
   "cell_type": "markdown",
   "id": "7eb45c86",
   "metadata": {
    "id": "7eb45c86"
   },
   "source": [
    "### DataFrame `orders`"
   ]
  },
  {
   "cell_type": "code",
   "execution_count": 28,
   "id": "93e41d96",
   "metadata": {
    "id": "93e41d96"
   },
   "outputs": [
    {
     "name": "stdout",
     "output_type": "stream",
     "text": [
      "order_id                      0\n",
      "user_id                       0\n",
      "order_number                  0\n",
      "order_dow                     0\n",
      "order_hour_of_day             0\n",
      "days_since_prior_order    28817\n",
      "dtype: int64\n"
     ]
    }
   ],
   "source": [
    "# Encontre os valores ausentes\n",
    "\n",
    "print(df_orders.isna().sum())"
   ]
  },
  {
   "cell_type": "code",
   "execution_count": 29,
   "id": "166e5a86",
   "metadata": {
    "id": "166e5a86"
   },
   "outputs": [
    {
     "name": "stdout",
     "output_type": "stream",
     "text": [
      "0         True\n",
      "1         True\n",
      "2         True\n",
      "3         True\n",
      "4         True\n",
      "          ... \n",
      "478947    True\n",
      "478948    True\n",
      "478949    True\n",
      "478950    True\n",
      "478951    True\n",
      "Name: order_number, Length: 478952, dtype: bool\n",
      "\n",
      "Quantidade total: 450135\n",
      "\n",
      "0         True\n",
      "1         True\n",
      "2         True\n",
      "3         True\n",
      "4         True\n",
      "          ... \n",
      "478947    True\n",
      "478948    True\n",
      "478949    True\n",
      "478950    True\n",
      "478951    True\n",
      "Name: days_since_prior_order, Length: 478952, dtype: bool\n",
      "\n",
      "Quantidade total: 478952\n"
     ]
    }
   ],
   "source": [
    "# Há valores ausentes para os clientes que não estão fazendo o primeiro pedido?\n",
    "\n",
    "not_first_order = df_orders['order_number'] > 1\n",
    "missing_values = not_first_order.sum()\n",
    "\n",
    "print(not_first_order)\n",
    "print()\n",
    "print('Quantidade total:', missing_values)\n",
    "\n",
    "print()\n",
    "# Dica: você poderia explorar também o atributo days_since_prior_order:\n",
    "\n",
    "first_order_dspo = df_orders['days_since_prior_order'] >= 1\n",
    "missing_values_dspo = first_order_dspo.count()\n",
    "\n",
    "print(first_order_dspo)\n",
    "print()\n",
    "print('Quantidade total:', missing_values_dspo)\n",
    "\n",
    "#Não sei o que estou fazendo errado aqui... Já tentei =0, >=1, notnull... Mas não estou conseguindo."
   ]
  },
  {
   "cell_type": "markdown",
   "id": "4e23d089",
   "metadata": {
    "id": "4e23d089"
   },
   "source": [
    "Descreva brevemente suas conclusões e o que você fez com elas.\n",
    "\n",
    "Foram 478.952 pedidos, sendo que 450.135 não foram o primeiro pedido. Coincidentemente tivemos 28.817 itens onde o número de dias desde que o cliente fez seu pedido anterior estão nulos. Logo, podemos afirmar que todos os valores nulos foram no primeiro pedido, afinal, não têm 'dias desde o pedido anterior', se não há anterior por ser o primeiro!"
   ]
  },
  {
   "cell_type": "markdown",
   "id": "69dc9ca4",
   "metadata": {
    "id": "69dc9ca4"
   },
   "source": [
    "### DataFrame `order_products`"
   ]
  },
  {
   "cell_type": "code",
   "execution_count": 30,
   "id": "b8240253",
   "metadata": {
    "id": "b8240253"
   },
   "outputs": [
    {
     "name": "stdout",
     "output_type": "stream",
     "text": [
      "order_id               0\n",
      "product_id             0\n",
      "add_to_cart_order    836\n",
      "reordered              0\n",
      "dtype: int64\n"
     ]
    }
   ],
   "source": [
    "# Encontre os valores ausentes\n",
    "\n",
    "print(df_order_products.isna().sum())"
   ]
  },
  {
   "cell_type": "code",
   "execution_count": 31,
   "id": "9a78e5ee",
   "metadata": {
    "id": "9a78e5ee"
   },
   "outputs": [
    {
     "name": "stdout",
     "output_type": "stream",
     "text": [
      "Mínimo: 1.0\n",
      "Máximo 64.0\n"
     ]
    }
   ],
   "source": [
    "# Quais são os valores mínimo e máximo dessa coluna?\n",
    "\n",
    "min_add_to_cart_order = df_order_products['add_to_cart_order'].min()\n",
    "\n",
    "max_add_to_cart_order = df_order_products['add_to_cart_order'].max()\n",
    "\n",
    "print('Mínimo:', min_add_to_cart_order)\n",
    "\n",
    "print('Máximo', max_add_to_cart_order)"
   ]
  },
  {
   "cell_type": "markdown",
   "id": "-Z2Ja215jW78",
   "metadata": {
    "id": "-Z2Ja215jW78"
   },
   "source": [
    "Descreva brevemente suas conclusões.\n",
    "\n",
    "Esta é a ordem sequencial que aquele pedido foi colocado no carrinho, e significa que o maior pedido tinha 64 itens diferentes na sua lista."
   ]
  },
  {
   "cell_type": "code",
   "execution_count": 32,
   "id": "ab9d0c2b",
   "metadata": {
    "id": "ab9d0c2b"
   },
   "outputs": [
    {
     "name": "stdout",
     "output_type": "stream",
     "text": [
      "737        2449164\n",
      "9926       1968313\n",
      "14394      2926893\n",
      "16418      1717990\n",
      "30114      1959075\n",
      "            ...   \n",
      "4505662    1800005\n",
      "4511400    1633337\n",
      "4517562     404157\n",
      "4534112    1673227\n",
      "4535739    1832957\n",
      "Name: order_id, Length: 836, dtype: int64\n"
     ]
    }
   ],
   "source": [
    "# Salve todos os IDs dos pedidos com pelo menos um valor ausente em 'add_to_cart_order'\n",
    "\n",
    "df_order_products_missing = df_order_products.loc[(df_order_products['add_to_cart_order'].isna()), 'order_id']\n",
    "\n",
    "print(df_order_products_missing)\n",
    "\n",
    "# Não sei se entendi esta questão... É isso?"
   ]
  },
  {
   "cell_type": "code",
   "execution_count": 33,
   "id": "54c31695",
   "metadata": {
    "id": "54c31695"
   },
   "outputs": [
    {
     "name": "stdout",
     "output_type": "stream",
     "text": [
      "<pandas.core.groupby.generic.DataFrameGroupBy object at 0x7f9d2ea08ac0>\n",
      "\n",
      "Valor mínimo da contagem: 1\n"
     ]
    }
   ],
   "source": [
    "# Todos os pedidos com valores ausentes contêm mais de 64 produtos?\n",
    "# Agrupe os pedidos com dados ausentes por ID de pedido\n",
    "\n",
    "orders_with_missing_data_grouped = df_order_products[df_order_products['add_to_cart_order'].isna()].groupby('order_id')\n",
    "\n",
    "print(orders_with_missing_data_grouped)\n",
    "\n",
    "# Conte o número de 'product_id' em cada pedido e verifique o valor mínimo da contagem\n",
    "\n",
    "order_product_count = df_order_products.groupby('order_id')['product_id'].count()\n",
    "min_product_count = order_product_count.min()\n",
    "\n",
    "print()\n",
    "print(\"Valor mínimo da contagem:\", min_product_count)\n"
   ]
  },
  {
   "cell_type": "markdown",
   "id": "p9V6pddtjglj",
   "metadata": {
    "id": "p9V6pddtjglj"
   },
   "source": [
    "Descreva brevemente suas conclusões.\n",
    "\n",
    "Foram encontrados 836 valores ausentes em 'add_to_cart_order, identifiquei que o maior pedido tinha 64 itens diferentes na sua lista, e o mínimo contém apenas 1."
   ]
  },
  {
   "cell_type": "code",
   "execution_count": 34,
   "id": "7a987d08",
   "metadata": {
    "id": "7a987d08"
   },
   "outputs": [
    {
     "name": "stdout",
     "output_type": "stream",
     "text": [
      "0          17\n",
      "1           1\n",
      "2           1\n",
      "3          35\n",
      "4           5\n",
      "           ..\n",
      "4545002    12\n",
      "4545003     9\n",
      "4545004     4\n",
      "4545005     8\n",
      "4545006     9\n",
      "Name: add_to_cart_order, Length: 4545007, dtype: int64\n"
     ]
    }
   ],
   "source": [
    "# Substitua valores ausentes na coluna 'add_to_cart_order' por 999 e converta a coluna para o tipo integer\n",
    "\n",
    "df_order_products['add_to_cart_order'] = df_order_products['add_to_cart_order'].fillna(999)\n",
    "\n",
    "df_order_products['add_to_cart_order'] = df_order_products['add_to_cart_order'].astype(int)\n",
    "\n",
    "print(df_order_products['add_to_cart_order'])"
   ]
  },
  {
   "cell_type": "markdown",
   "id": "fea4bcc7",
   "metadata": {
    "id": "fea4bcc7"
   },
   "source": [
    "Descreva brevemente suas conclusões e o que você fez com elas.\n",
    "\n",
    "Na primeira linha substitui os valores ausentes por 999 usando o método 'fillna'\n",
    "Na segunda linha mudei para inteiro com o método 'astype'."
   ]
  },
  {
   "cell_type": "markdown",
   "id": "RnplPFY1gSrb",
   "metadata": {
    "id": "RnplPFY1gSrb"
   },
   "source": [
    "## Conclusões\n",
    "\n",
    "Escreva aqui suas conclusões intermediárias da Etapa 2. Preparação de dados\n",
    "\n"
   ]
  },
  {
   "cell_type": "markdown",
   "id": "UjrOIwTcz3ri",
   "metadata": {
    "id": "UjrOIwTcz3ri"
   },
   "source": [
    "# Etapa 3. Análise de dados\n",
    "\n",
    "Quando os dados estiverem processados ​​e prontos, execute a seguinte análise:"
   ]
  },
  {
   "cell_type": "markdown",
   "id": "turkish-kidney",
   "metadata": {
    "id": "turkish-kidney"
   },
   "source": [
    "# [A] Fácil (é necessário concluir tudo para passar)\n",
    "\n",
    "1.\tVerifique se os valores nas colunas `'order_hour_of_day'` e `'order_dow'` na tabela `orders` fazem sentido (ou seja, os valores da coluna  `'order_hour_of_day'` variam de 0 a 23 e os da `'order_dow'` variam de 0 a 6).\n",
    "2.\tCrie um gráfico que mostre quantas pessoas fazem pedidos por cada hora do dia.\n",
    "3.\tCrie um gráfico que mostre em que dia da semana as pessoas fazem compras.\n",
    "4.\tCrie um gráfico que mostre quanto tempo as pessoas esperam até fazer seu próximo pedido e comente sobre os valores mínimo e máximo.\n"
   ]
  },
  {
   "cell_type": "markdown",
   "id": "short-capability",
   "metadata": {
    "id": "short-capability"
   },
   "source": [
    "### [A1] Verifique se os valores fazem sentido"
   ]
  },
  {
   "cell_type": "code",
   "execution_count": 35,
   "id": "growing-fruit",
   "metadata": {
    "id": "growing-fruit"
   },
   "outputs": [
    {
     "name": "stdout",
     "output_type": "stream",
     "text": [
      "Valores variam de: 0\n",
      "a: 23\n",
      "\n",
      "Conclusão: Faz sentido!\n"
     ]
    }
   ],
   "source": [
    "order_hour_values_min = df_orders['order_hour_of_day'].min()\n",
    "print(\"Valores variam de:\", order_hour_values_min)\n",
    "\n",
    "order_hour_values_max = df_orders['order_hour_of_day'].max()\n",
    "print(\"a:\", order_hour_values_max)\n",
    "\n",
    "print()\n",
    "print(\"Conclusão: Faz sentido!\")\n"
   ]
  },
  {
   "cell_type": "code",
   "execution_count": 36,
   "id": "accessory-malaysia",
   "metadata": {
    "id": "accessory-malaysia"
   },
   "outputs": [
    {
     "name": "stdout",
     "output_type": "stream",
     "text": [
      "Valores variam de: 0\n",
      "a: 6\n",
      "\n",
      "Conclusão: Faz sentido!\n"
     ]
    }
   ],
   "source": [
    "order_dow_values_min = df_orders['order_dow'].min()\n",
    "print(\"Valores variam de:\", order_dow_values_min)\n",
    "\n",
    "order_dow_values_max = df_orders['order_dow'].max()\n",
    "print(\"a:\", order_dow_values_max)\n",
    "\n",
    "print()\n",
    "print(\"Conclusão: Faz sentido!\")"
   ]
  },
  {
   "cell_type": "markdown",
   "id": "hmR2GNQ6lCsX",
   "metadata": {
    "id": "hmR2GNQ6lCsX"
   },
   "source": [
    "Escreva suas conclusões aqui\n",
    "\n",
    "Ambas as análises fazem sentido, pois o horário varia de 0 a 23 e o dia da semana varia de 0 a 6. Então, está certinho!"
   ]
  },
  {
   "cell_type": "markdown",
   "id": "a6743a70",
   "metadata": {
    "id": "a6743a70"
   },
   "source": [
    "### [A2] Quantas pessoas fazem pedidos a cada hora do dia?"
   ]
  },
  {
   "cell_type": "code",
   "execution_count": 37,
   "id": "a36cca27",
   "metadata": {
    "id": "a36cca27"
   },
   "outputs": [
    {
     "data": {
      "image/png": "[encoded data removed]",
      "text/plain": [
       "<Figure size 432x288 with 1 Axes>"
      ]
     },
     "metadata": {
      "needs_background": "light"
     },
     "output_type": "display_data"
    }
   ],
   "source": [
    "# Quantidade de pessoas ('user_id' - y) x Pedidos a cada hora do dia ('order_hour_of_day' - x)\n",
    "\n",
    "import matplotlib.pyplot as plt\n",
    "\n",
    "daily_orders = df_orders.groupby('order_hour_of_day')['order_id'].count()\n",
    "daily_orders.plot(kind='bar')\n",
    " \n",
    "plt.show()\n",
    "\n",
    "# Peguei esta orientação no Discord, pois o Kernel estava morrendo...\n",
    "\n",
    "# \"Logo, seu passo-a-passo seria: \n",
    "# 1 - Fazer o agrupamento por dia da semana e contar a quantidade de pedidos. \n",
    "# 2 - Fazer um plot do tipo gráfico de barras onde o eixo X é o dia da semana e o Y a contagem de pedidos. Use o dataframe gerado no passo anterior.\""
   ]
  },
  {
   "cell_type": "markdown",
   "id": "11270eed",
   "metadata": {
    "id": "11270eed"
   },
   "source": [
    "Escreva suas conclusões aqui\n",
    "\n",
    "O horário de pico quando têm mais pedidos é entre 10h e 15h. Já o período que menos têm pedidos é entre 00h e 06h, o que faz sentido, já que é o horário onde a maior parte das pessoas dorme."
   ]
  },
  {
   "cell_type": "markdown",
   "id": "documented-command",
   "metadata": {
    "id": "documented-command"
   },
   "source": [
    "### [A3] Em que dia da semana as pessoas fazem compras?"
   ]
  },
  {
   "cell_type": "code",
   "execution_count": 38,
   "id": "chief-digit",
   "metadata": {
    "id": "chief-digit"
   },
   "outputs": [
    {
     "data": {
      "image/png": "[encoded data removed]",
      "text/plain": [
       "<Figure size 432x288 with 1 Axes>"
      ]
     },
     "metadata": {
      "needs_background": "light"
     },
     "output_type": "display_data"
    }
   ],
   "source": [
    "# Quantidade de pessoas ('user_id' - y) x Dia da semana ('order_dow' - x)\n",
    "\n",
    "import matplotlib.pyplot as plt\n",
    "\n",
    "daily_orders = df_orders.groupby('order_dow')['order_id'].count()\n",
    "daily_orders.plot(kind='bar')\n",
    " \n",
    "plt.show()\n",
    "\n",
    "# Mesmo esquema do exercício anterior"
   ]
  },
  {
   "cell_type": "markdown",
   "id": "dominant-lightning",
   "metadata": {
    "id": "dominant-lightning"
   },
   "source": [
    "Escreva suas conclusões aqui\n",
    "\n",
    "Os dias com mais pedidos são domingo e segunda, possivelmente pois as pessoas querem começar a semana já com as compras feitas, até para cozinhar ou mesmo para 'se livrar' desta função no resto da semana. "
   ]
  },
  {
   "cell_type": "markdown",
   "id": "cutting-concert",
   "metadata": {
    "id": "cutting-concert"
   },
   "source": [
    "### [A4] Quanto tempo as pessoas esperam até fazer outro pedido?"
   ]
  },
  {
   "cell_type": "markdown",
   "id": "discrete-vertex",
   "metadata": {
    "id": "discrete-vertex"
   },
   "source": [
    "Escreva suas conclusões aqui\n",
    "\n",
    "A maior parte das pessoas espera 7 ou 30 dias para fazer um novo pedido... Ou seja, normalmente as pessoas fazem compras semanalmente ou mensalmente."
   ]
  },
  {
   "cell_type": "code",
   "execution_count": 39,
   "id": "gMOIimGd5VNb",
   "metadata": {
    "id": "gMOIimGd5VNb"
   },
   "outputs": [
    {
     "data": {
      "image/png": "[encoded data removed]",
      "text/plain": [
       "<Figure size 432x288 with 1 Axes>"
      ]
     },
     "metadata": {
      "needs_background": "light"
     },
     "output_type": "display_data"
    }
   ],
   "source": [
    "# Quantidade de pessoas ('user_id' - y) x Dias desde o último pedido ('days_since_prior_order' - x)\n",
    "\n",
    "import matplotlib.pyplot as plt\n",
    "\n",
    "daily_orders = df_orders.groupby('days_since_prior_order')['order_id'].count()\n",
    "daily_orders.plot(kind='bar')\n",
    " \n",
    "plt.show()\n",
    "\n",
    "# Mesmo esquema do exercício anterior"
   ]
  },
  {
   "cell_type": "markdown",
   "id": "tight-staff",
   "metadata": {
    "id": "tight-staff"
   },
   "source": [
    "# [B] Médio (é necessário concluir tudo para passar)\n",
    "\n",
    "1.\tHá alguma diferença nas distribuições de `'order_hour_of_day'` nas quartas e sábados? Construa gráficos de barras para ambos os dias no mesmo gráfico e descreva as diferenças que você notou.\n",
    "2.\tConstrua um gráfico de distribuição para o número de pedidos que os clientes fazem (ou seja, quantos clientes fizeram apenas 1 pedido, quantos fizeram apenas 2, quantos apenas 3, etc.)\n",
    "3.\tQuais são os 20 produtos comprados com mais frequência? Exiba os IDs e nomes.\n"
   ]
  },
  {
   "cell_type": "markdown",
   "id": "packed-classic",
   "metadata": {
    "id": "packed-classic"
   },
   "source": [
    "### [B1] Diferenças nas quartas e sábados em `'order_hour_of_day'`. Crie gráficos de barras para ambos os dias e descreva as diferenças."
   ]
  },
  {
   "cell_type": "code",
   "execution_count": 40,
   "id": "d89b8403",
   "metadata": {
    "id": "d89b8403"
   },
   "outputs": [
    {
     "data": {
      "image/png": "[encoded data removed]",
      "text/plain": [
       "<Figure size 432x288 with 1 Axes>"
      ]
     },
     "metadata": {
      "needs_background": "light"
     },
     "output_type": "display_data"
    }
   ],
   "source": [
    "# Quarta ('order_dow' - y=3) x Horário em que o pedido foi feito ('order_hour_of_day' - x)\n",
    "\n",
    "import matplotlib.pyplot as plt\n",
    "\n",
    "df_orders_wed = df_orders[df_orders['order_dow'] == 3]\n",
    "\n",
    "daily_orders_wed = df_orders_wed.groupby('order_hour_of_day')['order_dow'].count()\n",
    "daily_orders_wed.plot(kind='bar', title='Quarta-feira')\n",
    "\n",
    "plt.show()\n"
   ]
  },
  {
   "cell_type": "code",
   "execution_count": 41,
   "id": "94e54e8a",
   "metadata": {
    "id": "94e54e8a"
   },
   "outputs": [
    {
     "data": {
      "image/png": "[encoded data removed]",
      "text/plain": [
       "<Figure size 432x288 with 1 Axes>"
      ]
     },
     "metadata": {
      "needs_background": "light"
     },
     "output_type": "display_data"
    }
   ],
   "source": [
    "# Sábado ('order_dow' - y=7) x Horário em que o pedido foi feito ('order_hour_of_day' - x)\n",
    "\n",
    "import matplotlib.pyplot as plt\n",
    "\n",
    "df_orders_sat = df_orders[df_orders['order_dow'] == 6]\n",
    "\n",
    "daily_orders_sat = df_orders_sat.groupby('order_hour_of_day')['order_dow'].count()\n",
    "daily_orders_sat.plot(kind='bar', title='Sábado')\n",
    "\n",
    "plt.show()"
   ]
  },
  {
   "cell_type": "markdown",
   "id": "charitable-congo",
   "metadata": {
    "id": "charitable-congo"
   },
   "source": [
    "Escreva suas conclusões aqui\n",
    "\n",
    "Embora os gráficos sejam muito parecidos, há uma diferença entre 12h e 14h, onde a quantidade é maior aos sábados."
   ]
  },
  {
   "cell_type": "markdown",
   "id": "e3891143",
   "metadata": {
    "id": "e3891143"
   },
   "source": [
    "### [B2] Qual é a distribuição do número de pedidos por cliente?"
   ]
  },
  {
   "cell_type": "code",
   "execution_count": 42,
   "id": "d8c26c23",
   "metadata": {
    "id": "d8c26c23"
   },
   "outputs": [
    {
     "data": {
      "image/png": "[encoded data removed]",
      "text/plain": [
       "<Figure size 432x288 with 1 Axes>"
      ]
     },
     "metadata": {
      "needs_background": "light"
     },
     "output_type": "display_data"
    }
   ],
   "source": [
    "# Gráfico - Quantos clientes fizeram apenas 1 pedido, quantos fizeram apenas 2, quantos apenas 3, etc.\n",
    "# order_number x , user_id y - pegar maior número, pois é o último pedido do cliente\n",
    "\n",
    "import matplotlib.pyplot as plt\n",
    "\n",
    "orders_count = df_orders.groupby('user_id')['order_id'].count()\n",
    "orders_count.plot(kind='hist',\n",
    "                  bins=5,\n",
    "                  title='Distribuição do número de pedidos por cliente'\n",
    "                     )\n",
    "\n",
    "plt.show()"
   ]
  },
  {
   "cell_type": "markdown",
   "id": "d2eff7d5",
   "metadata": {
    "id": "d2eff7d5"
   },
   "source": [
    "Escreva suas conclusões aqui\n",
    "\n",
    "A maioria dos clientes pediu apenas uma vez, e esta linha cai bastante a parte de 5 pedidos."
   ]
  },
  {
   "cell_type": "markdown",
   "id": "54a0319c",
   "metadata": {
    "id": "54a0319c"
   },
   "source": [
    "### [B3] Quais são os 20 produtos mais populares? Exiba os IDs e nomes."
   ]
  },
  {
   "cell_type": "code",
   "execution_count": 43,
   "id": "exterior-arizona",
   "metadata": {
    "id": "exterior-arizona",
    "scrolled": false
   },
   "outputs": [
    {
     "name": "stdout",
     "output_type": "stream",
     "text": [
      "       product_id              product_name\n",
      "22808       24852                    banana\n",
      "12025       13176    bag of organic bananas\n",
      "19370       21137      organic strawberries\n",
      "20077       21903      organic baby spinach\n",
      "43271       47209      organic hass avocado\n",
      "43788       47766           organic avocado\n",
      "43663       47626               large lemon\n",
      "15364       16797              strawberries\n",
      "24047       26209                     limes\n",
      "25556       27845        organic whole milk\n",
      "25666       27966       organic raspberries\n",
      "21025       22935      organic yellow onion\n",
      "22908       24964            organic garlic\n",
      "41244       45007          organic zucchini\n",
      "35996       39275       organic blueberries\n",
      "45561       49683            cucumber kirby\n",
      "25889       28204        organic fuji apple\n",
      "5375         5876             organic lemon\n",
      "7543         8277  apple honeycrisp organic\n",
      "37301       40706    organic grape tomatoes\n"
     ]
    }
   ],
   "source": [
    "# 20 produtos mais populares, nome e ID\n",
    "# df_order_products -> 'order_id' e 'product_id' - Buscar pelo product_id no order_id em ordem decrescente\n",
    "# df_products -> 'product_id' e 'product_name'\n",
    "\n",
    "df_order_products_populars = df_order_products.groupby('product_id')['order_id'].count().sort_values(ascending=False)\n",
    "#print(df_order_products_populars)\n",
    "\n",
    "df_products_top20 = pd.merge(df_products, df_order_products_populars, on='product_id')\n",
    "\n",
    "df_products_top20 = df_products_top20.sort_values(by='order_id', ascending=False).head(20)\n",
    "\n",
    "print((df_products_top20[['product_id', 'product_name']]))\n",
    "\n",
    "\n",
    "\n"
   ]
  },
  {
   "cell_type": "markdown",
   "id": "7df00f47",
   "metadata": {
    "id": "7df00f47"
   },
   "source": [
    "Escreva suas conclusões aqui\n",
    "\n",
    "O que as pessoas mais compram no Instacart são frutas e legumes, basicamente... Fazendo uma análise considerando que estas quantidades são unitárias, até faz sentido... Uma pessoa pode em um pedido, comprar 7 limões, mas não vai comprar esta mesma quantidade em coisas como arroz ou farinha. "
   ]
  },
  {
   "cell_type": "markdown",
   "id": "gross-theme",
   "metadata": {
    "id": "gross-theme"
   },
   "source": [
    "# [C] Difícil (é necessário concluir pelo menos duas perguntas para passar)\n",
    "\n",
    "1.\tQuantos itens as pessoas normalmente compram em um pedido? Como fica a distribuição?\n",
    "2.\tQuais são os 20 principais itens incluídos mais frequentemente em pedidos repetidos? Exiba os IDs e nomes.\n",
    "3.\tPara cada produto, qual parcela de seus pedidos são repetidos? Crie uma tabela com colunas de ID e nome do produto e a proporção de pedidos repetidos.\n",
    "4.\tPara cada cliente, qual proporção de todos os seus pedidos são repetidos?\n",
    "5.\tQuais são os 20 principais itens que as pessoas colocam nos carrinhos antes de todos os outros? Exiba o ID do produto, nome e o número de vezes que ele foi o primeiro a ser adicionado a um carrinho.\n"
   ]
  },
  {
   "cell_type": "markdown",
   "id": "romantic-deposit",
   "metadata": {
    "id": "romantic-deposit"
   },
   "source": [
    "### [C1] Quantos itens as pessoas normalmente compram em um pedido? Como fica a distribuição?"
   ]
  },
  {
   "cell_type": "code",
   "execution_count": 44,
   "id": "virtual-punch",
   "metadata": {
    "id": "virtual-punch"
   },
   "outputs": [
    {
     "name": "stdout",
     "output_type": "stream",
     "text": [
      "Média: 10.242555205467886\n"
     ]
    },
    {
     "data": {
      "image/png": "[encoded data removed]",
      "text/plain": [
       "<Figure size 432x288 with 1 Axes>"
      ]
     },
     "metadata": {
      "needs_background": "light"
     },
     "output_type": "display_data"
    }
   ],
   "source": [
    "# Quantidade de itens = 'add_to_cart_order' (no 'df_order_products') - Pegar somente o maior número, ou seja, o último\n",
    "# Relacionar com o 'order_id', que seria a quantidade de pedidos\n",
    "\n",
    "df_orders_products_max = df_order_products.groupby('order_id')['add_to_cart_order'].max() # pegando o 'último' número\n",
    "df_orders_products_mean = df_orders_products_max.mean()\n",
    "\n",
    "print(\"Média:\", df_orders_products_mean)\n",
    "\n",
    "import matplotlib.pyplot as plt\n",
    "\n",
    "add_count = df_order_products.groupby('order_id')['add_to_cart_order'].count()\n",
    "\n",
    "filtered_data = add_count[df_order_products['add_to_cart_order'] < 35]\n",
    "\n",
    "filtered_data.plot(kind='hist')\n",
    "\n",
    "plt.show()\n"
   ]
  },
  {
   "cell_type": "markdown",
   "id": "designed-mortality",
   "metadata": {
    "id": "designed-mortality"
   },
   "source": [
    "Escreva suas conclusões aqui\n",
    "\n",
    "As pessoas compram em média 10 itens diferentes em seus pedidos."
   ]
  },
  {
   "cell_type": "markdown",
   "id": "5e6b5537",
   "metadata": {
    "id": "5e6b5537"
   },
   "source": [
    "### [C2] Quais são os 20 principais itens incluídos mais frequentemente em pedidos repetidos? Exiba os IDs e nomes."
   ]
  },
  {
   "cell_type": "code",
   "execution_count": 45,
   "id": "9374e55a",
   "metadata": {
    "id": "9374e55a"
   },
   "outputs": [
    {
     "name": "stdout",
     "output_type": "stream",
     "text": [
      "       product_id              product_name\n",
      "22808       24852                    banana\n",
      "12025       13176    bag of organic bananas\n",
      "19370       21137      organic strawberries\n",
      "20077       21903      organic baby spinach\n",
      "43271       47209      organic hass avocado\n",
      "43788       47766           organic avocado\n",
      "43663       47626               large lemon\n",
      "15364       16797              strawberries\n",
      "24047       26209                     limes\n",
      "25556       27845        organic whole milk\n",
      "25666       27966       organic raspberries\n",
      "21025       22935      organic yellow onion\n",
      "22908       24964            organic garlic\n",
      "41244       45007          organic zucchini\n",
      "35996       39275       organic blueberries\n",
      "45561       49683            cucumber kirby\n",
      "25889       28204        organic fuji apple\n",
      "5375         5876             organic lemon\n",
      "7543         8277  apple honeycrisp organic\n",
      "37301       40706    organic grape tomatoes\n"
     ]
    }
   ],
   "source": [
    "# What are the top 20 items that are reordered most frequently = Itens que são pedidos novamente com mais frequência\n",
    "\n",
    "# Precisa dos top 20 itens com ID ('product_id') e nomes ('product_name')\n",
    "# O único item em comum da DF 'df_products' com outras é o 'product_id', que tem na DF \n",
    "\n",
    "# O que preciso para chegar no resultado?\n",
    "# - 'product_id' e 'product_name' como resultado da DF (na 'df_product')\n",
    "\n",
    "# Dica: verifique a necessidade de fazer o merge entre os dataframes de compras e os de produtos.\n",
    "\n",
    "df_merge = pd.merge(df_products, df_order_products_populars, on='product_id')\n",
    "top_products = df_merge.groupby(['product_id', 'product_name']).count().sort_values(['order_id'], ascending=False).head(20)\n",
    "\n",
    "#product_counts = df_products['product_id'].value_counts()\n",
    "\n",
    "\n",
    "print((df_products_top20[['product_id', 'product_name']]))"
   ]
  },
  {
   "cell_type": "markdown",
   "id": "80e70c74",
   "metadata": {
    "id": "80e70c74"
   },
   "source": [
    "Escreva suas conclusões aqui\n",
    "\n",
    "Como não tinham todas as informações em apenas um dataframe, precisei identificar e verificar que precisava fazer o merge entre o dataframe de produtos e de compras, a partir da variável 'product_id'. Assim, conseguimos os 20 produtos.\n",
    "\n",
    "Ps.: Não consegui imprimir uma coluna com o 'count'... Pode me ajudar, por favor?"
   ]
  },
  {
   "cell_type": "markdown",
   "id": "9d312b14",
   "metadata": {
    "id": "9d312b14"
   },
   "source": [
    "### [C3] Para cada produto, qual parcela de todos os pedidos dele são repetidos?"
   ]
  },
  {
   "cell_type": "code",
   "execution_count": 46,
   "id": "8ae9f4b1",
   "metadata": {
    "id": "8ae9f4b1"
   },
   "outputs": [],
   "source": [
    "#For each product, what proportion of its orders are reorders? (Qual a proporção de produtos pedidos novamente)\n",
    "#Crie uma tabela com colunas de ID e nome do produto e a proporção de pedidos repetidos."
   ]
  },
  {
   "cell_type": "code",
   "execution_count": 47,
   "id": "103e7fe1",
   "metadata": {
    "id": "103e7fe1"
   },
   "outputs": [
    {
     "ename": "NameError",
     "evalue": "name 'product_info' is not defined",
     "output_type": "error",
     "traceback": [
      "\u001b[0;31m---------------------------------------------------------------------------\u001b[0m",
      "\u001b[0;31mNameError\u001b[0m                                 Traceback (most recent call last)",
      "\u001b[0;32m/tmp/ipykernel_214/2814137723.py\u001b[0m in \u001b[0;36m<module>\u001b[0;34m\u001b[0m\n\u001b[1;32m     11\u001b[0m \u001b[0mreorder_proportion\u001b[0m \u001b[0;34m=\u001b[0m \u001b[0mreordered_counts\u001b[0m \u001b[0;34m/\u001b[0m \u001b[0mtotal_orders\u001b[0m \u001b[0;31m#Proporção\u001b[0m\u001b[0;34m\u001b[0m\u001b[0;34m\u001b[0m\u001b[0m\n\u001b[1;32m     12\u001b[0m \u001b[0;34m\u001b[0m\u001b[0m\n\u001b[0;32m---> 13\u001b[0;31m \u001b[0mproduct_info_sorted\u001b[0m \u001b[0;34m=\u001b[0m \u001b[0mproduct_info\u001b[0m\u001b[0;34m.\u001b[0m\u001b[0massign\u001b[0m\u001b[0;34m(\u001b[0m\u001b[0mreordered_count\u001b[0m\u001b[0;34m=\u001b[0m\u001b[0mreordered_counts\u001b[0m\u001b[0;34m,\u001b[0m \u001b[0mreorder_proportion\u001b[0m\u001b[0;34m=\u001b[0m\u001b[0mreorder_proportion\u001b[0m\u001b[0;34m)\u001b[0m\u001b[0;34m.\u001b[0m\u001b[0msort_values\u001b[0m\u001b[0;34m(\u001b[0m\u001b[0mby\u001b[0m\u001b[0;34m=\u001b[0m\u001b[0;34m'reordered_count'\u001b[0m\u001b[0;34m,\u001b[0m \u001b[0mascending\u001b[0m\u001b[0;34m=\u001b[0m\u001b[0;32mFalse\u001b[0m\u001b[0;34m)\u001b[0m\u001b[0;34m\u001b[0m\u001b[0;34m\u001b[0m\u001b[0m\n\u001b[0m\u001b[1;32m     14\u001b[0m \u001b[0;34m\u001b[0m\u001b[0m\n\u001b[1;32m     15\u001b[0m \u001b[0mprint\u001b[0m\u001b[0;34m(\u001b[0m\u001b[0mproduct_info_sorted\u001b[0m\u001b[0;34m[\u001b[0m\u001b[0;34m[\u001b[0m\u001b[0;34m'product_name'\u001b[0m\u001b[0;34m,\u001b[0m \u001b[0;34m'reorder_proportion'\u001b[0m\u001b[0;34m]\u001b[0m\u001b[0;34m]\u001b[0m\u001b[0;34m)\u001b[0m\u001b[0;34m\u001b[0m\u001b[0;34m\u001b[0m\u001b[0m\n",
      "\u001b[0;31mNameError\u001b[0m: name 'product_info' is not defined"
     ]
    }
   ],
   "source": [
    "#Produtos pedidos novamente. O que quero saber? Produtos (product_id), em relação a recompra (reordered = 1).\n",
    "#Todas as informações estão em 'df_order_products'\n",
    "\n",
    "reordered_orders = df_order_products[df_order_products['reordered'] == 1] #Filtrar somente reordered = 1\n",
    "non_reordered_orders = df_order_products[df_order_products['reordered'] == 0] #Filtrar somente reordered = 0 para comparação\n",
    "\n",
    "reordered_counts = reordered_orders.groupby('product_id')['reordered'].sum()\n",
    "non_reordered_counts = non_reordered_orders.groupby('product_id')['reordered'].count()\n",
    "\n",
    "total_orders = reordered_counts + non_reordered_counts\n",
    "reorder_proportion = reordered_counts / total_orders #Proporção\n",
    "\n",
    "product_info_sorted = product_info.assign(reordered_count=reordered_counts, reorder_proportion=reorder_proportion).sort_values(by='reordered_count', ascending=False)\n",
    "\n",
    "print(product_info_sorted[['product_name', 'reorder_proportion']])"
   ]
  },
  {
   "cell_type": "markdown",
   "id": "I10dEIAyldcO",
   "metadata": {
    "id": "I10dEIAyldcO"
   },
   "source": [
    "Escreva suas conclusões aqui\n",
    "\n",
    "Procurei pelos produtos (product_id), em relação a recompra (reordered - que tem que filtrar apenar os '1', pois confirma que são recompras) e comparando com o que não foi recompra (reordered = 0), e assim fazendo a proporção para ver percentualmente o que foi de recompra ou não"
   ]
  },
  {
   "cell_type": "markdown",
   "id": "subject-boxing",
   "metadata": {
    "id": "subject-boxing"
   },
   "source": [
    "### [C4] Para cada cliente, qual proporção de todos os seus pedidos são repetidos?"
   ]
  },
  {
   "cell_type": "code",
   "execution_count": null,
   "id": "medical-couple",
   "metadata": {
    "id": "medical-couple",
    "scrolled": true
   },
   "outputs": [],
   "source": [
    "#For each customer, what proportion of their products ordered are reorders? Produtos pedidos!!"
   ]
  },
  {
   "cell_type": "code",
   "execution_count": null,
   "id": "8892e4b4",
   "metadata": {
    "id": "8892e4b4"
   },
   "outputs": [],
   "source": [
    "#Pedidos repetidos por cliente. Logo, a análise deve ser feita em cima dos clientes (user_id) e o produto (product_id + product_name. E tirar proporção!\n",
    "#Precisa relacionar o product_id com user_id, que não se encontram no mesmo dataframe...\n",
    "#Precisa do product_id e product_name do 'df_products',\n",
    "# Depois relacionar df_produ                                                                                                          \n",
    "                                                                                                          "
   ]
  },
  {
   "cell_type": "markdown",
   "id": "BgJSvXDsleXz",
   "metadata": {
    "id": "BgJSvXDsleXz"
   },
   "source": [
    "Escreva suas conclusões aqui"
   ]
  },
  {
   "cell_type": "markdown",
   "id": "92d35137",
   "metadata": {
    "id": "92d35137"
   },
   "source": [
    "### [C5] Quais são os 20 principais itens que as pessoas colocam nos carrinhos antes de todos os outros?"
   ]
  },
  {
   "cell_type": "code",
   "execution_count": 48,
   "id": "0ae57274",
   "metadata": {
    "id": "0ae57274",
    "scrolled": true
   },
   "outputs": [],
   "source": [
    "#What are the top 20 items that people put in their carts first?\n",
    "#Quais são os 20 principais itens que as pessoas colocam nos carrinhos antes de todos os outros? \n",
    "#Exiba o ID do produto, nome e o número de vezes que ele foi o primeiro a ser adicionado a um carrinho.\n",
    "add_to_cart_order = 1"
   ]
  },
  {
   "cell_type": "code",
   "execution_count": 49,
   "id": "forty-netherlands",
   "metadata": {
    "id": "forty-netherlands",
    "scrolled": false
   },
   "outputs": [
    {
     "name": "stdout",
     "output_type": "stream",
     "text": [
      "    product_id                 product_name  count\n",
      "0        24852                       banana  15562\n",
      "1        13176       bag of organic bananas  11026\n",
      "2        27845           organic whole milk   4363\n",
      "3        21137         organic strawberries   3946\n",
      "4        47209         organic hass avocado   3390\n",
      "5        21903         organic baby spinach   3336\n",
      "6        47766              organic avocado   3044\n",
      "7        19660                 spring water   2336\n",
      "8        16797                 strawberries   2308\n",
      "9        27966          organic raspberries   2024\n",
      "10       44632   sparkling water grapefruit   1914\n",
      "11       49235          organic half & half   1797\n",
      "12       47626                  large lemon   1737\n",
      "13         196                         soda   1733\n",
      "14       38689     organic reduced fat milk   1397\n",
      "15       26209                        limes   1370\n",
      "16       12341                hass avocados   1340\n",
      "17        5785  organic reduced fat 2% milk   1310\n",
      "18       27086                  half & half   1309\n",
      "19       22935         organic yellow onion   1246\n"
     ]
    }
   ],
   "source": [
    "#Primeiro no df 'df_order_products', pegar o 'add_to_cart_order' = 1, e relacionar com o 'product_id'\n",
    "#(Filtrar somente add_to_cart_order = 1)\n",
    "#Depois mesclar o 'product_id' com o product_name na DF df_products\n",
    "#Retornar 'product_id', 'product_name', quantidade de vezes\n",
    "\n",
    "# Filtrar somente add_to_cart_order = 1 e contar o número de vezes que cada produto aparece\n",
    "cart_order_1 = df_order_products[df_order_products['add_to_cart_order'] == 1]\n",
    "\n",
    "product_info = cart_order_1['product_id'].value_counts().reset_index() #Não entendi porque só funciona com reset_index\n",
    "\n",
    "product_info.columns = ['product_id', 'count']\n",
    "\n",
    "product_info = product_info.merge(df_products[['product_id', 'product_name']], on='product_id') #Mesclar\n",
    "\n",
    "print(product_info[['product_id', 'product_name', 'count']].head(20))"
   ]
  },
  {
   "cell_type": "markdown",
   "id": "28ce9872",
   "metadata": {
    "id": "28ce9872"
   },
   "source": [
    "Escreva suas conclusões aqui\n",
    "\n",
    "Como estamos pegando o primeiro item do carrinho, então precisa filtrar o 1 do 'add_to_cart_order' e relacionar com o 'product_id' no dataframe' df_order_products', depois disso mesclar o 'product_id' com o 'product_name' no dataframe 'df_products' para retornar 'product_id', 'product_name', quantidade de vezes"
   ]
  },
  {
   "cell_type": "markdown",
   "id": "TisH_5Cp3wAi",
   "metadata": {
    "id": "TisH_5Cp3wAi"
   },
   "source": [
    "# Conclusão geral do projeto:\n",
    "\n",
    "Todas as conclusões que cheguei ao longo do projeto, só foram possíveis com todas as análises realizadas. Cada passo é essencial, e qualquer coisa que passar batido pode prejudicar bastante a análise geral. Por isso, é imprensindível que antes mesmo de ir para a parte prática, se faz necessário entender o que vem por trás daqueles dados e onde queremos chegar. Alguma coisa que passa batido, pode alterar tudo. Isso mostra o quanto é importante ter o entendendimento do negócio e da parte analítica!"
   ]
  }
 ],
 "metadata": {
  "colab": {
   "provenance": []
  },
  "kernelspec": {
   "display_name": "Python 3 (ipykernel)",
   "language": "python",
   "name": "python3"
  },
  "language_info": {
   "codemirror_mode": {
    "name": "ipython",
    "version": 3
   },
   "file_extension": ".py",
   "mimetype": "text/x-python",
   "name": "python",
   "nbconvert_exporter": "python",
   "pygments_lexer": "ipython3",
   "version": "3.9.5"
  },
  "toc": {
   "base_numbering": 1,
   "nav_menu": {},
   "number_sections": true,
   "sideBar": true,
   "skip_h1_title": true,
   "title_cell": "Table of Contents",
   "title_sidebar": "Contents",
   "toc_cell": false,
   "toc_position": {},
   "toc_section_display": true,
   "toc_window_display": false
  },
  "vscode": {
   "interpreter": {
    "hash": "01a7be9ec63e704a62cefc5fe7a4756944464ee731be31632bdf42a4cb4688cf"
   }
  }
 },
 "nbformat": 4,
 "nbformat_minor": 5
}
